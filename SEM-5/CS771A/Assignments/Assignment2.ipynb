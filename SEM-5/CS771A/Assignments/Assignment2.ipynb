{
  "nbformat": 4,
  "nbformat_minor": 0,
  "metadata": {
    "colab": {
      "name": "190158.ipynb",
      "provenance": []
    },
    "kernelspec": {
      "name": "python3",
      "display_name": "Python 3"
    },
    "language_info": {
      "name": "python"
    }
  },
  "cells": [
    {
      "cell_type": "markdown",
      "metadata": {
        "id": "nrsm_bx61Z5p"
      },
      "source": [
        "Ans 1.a"
      ]
    },
    {
      "cell_type": "code",
      "metadata": {
        "colab": {
          "base_uri": "https://localhost:8080/"
        },
        "id": "EnS1ELYpyf4p",
        "outputId": "856dc8af-7f2b-4413-b076-81aa0b18ab36"
      },
      "source": [
        "import numpy as np\n",
        "import pandas as pd\n",
        "import matplotlib.pyplot as plt\n",
        "\n",
        "def grad_1(x):\n",
        "  return 2*x+3           # gradient of first equation = 2*x +3\n",
        "\n",
        "def grad_2(x):\n",
        "  return 4*(x*x*x) - 6*x + 2       # gradient of second equation = 4*x*x*x - 6*x +2\n",
        "\n",
        "def gradient_descent(gradient, init_, learn_rate, n_iter=50, tol= 1e-06):\n",
        "  x= init_\n",
        "  for _ in range(n_iter):\n",
        "    delta= -learn_rate*gradient(x)\n",
        "    if np.all(np.abs(delta) <= tol):\n",
        "      break\n",
        "    x+= delta\n",
        "  return round(x*1000)/1000\n",
        "\n",
        "\n",
        "x= gradient_descent(grad_1, 0, 0.1, 50, 1e-06)     # Function return the optimal value of x for which minima occurs\n",
        "                                                   # No of iterations = 50 \n",
        "\n",
        "print(\"Value of x at which occurs is \", x)\n",
        "print(\"Value of function at minimua \", x*x + 3*x + 4)\n",
        "\n",
        "x= gradient_descent(grad_2, 0, 0.05, 50, 1e-06)  # Return the value of x for minima of second equation\n",
        "\n",
        "print(\"Value of x at which occurs is \", x)\n",
        "print(\"Value of function at minimua \", ((x**4 - 3*x**2 + 2*x)))\n"
      ],
      "execution_count": 54,
      "outputs": [
        {
          "output_type": "stream",
          "name": "stdout",
          "text": [
            "Value of x at which occurs is  -1.5\n",
            "Value of function at minimua  1.75\n",
            "Value of x at which occurs is  -1.366\n",
            "Value of function at minimua  -4.848076206064\n"
          ]
        }
      ]
    },
    {
      "cell_type": "markdown",
      "metadata": {
        "id": "2x28j6o11dvG"
      },
      "source": [
        "Ans 1.b\n"
      ]
    },
    {
      "cell_type": "code",
      "metadata": {
        "id": "GD1w6V7K1hKd"
      },
      "source": [
        "import random\n",
        "import numpy as np\n",
        "import pandas as pd\n",
        "\n",
        "\n",
        "#a is the slope for linear model\n",
        "#b is the intercept for linear model\n",
        "#X is our training data\n",
        "#y is output\n",
        "\n",
        "\n",
        "\n",
        "def mean_sqr_LR(X,y,a,b):         # mean square root as our cost function\n",
        "  return 1/n * np.sum((y - a*X - b)**2)\n",
        "\n",
        "def gradient_descent_LR(X, y, learn_rate,n_iter , tol=1e-06):\n",
        "  a=0\n",
        "  b=0\n",
        "  n= len(X)\n",
        "\n",
        "  for _ in range(n_iter):   # at most \"n_iter\"  number of iteration\n",
        "    a_gradient = -2/n * np.sum(X * (y- a*X - b))\n",
        "    b_gradient = -2/n * np.sum(y - a*X - b)  \n",
        "    mse = mean_sqr_LR(X, y, a, b)\n",
        "    if mse<= tol :\n",
        "      break\n",
        "    a+= learn_rate* a_gradient * (-1)\n",
        "    b+= learn_rate* b_gradient * (-1)\n",
        "\n",
        "  return round(a*1000)/1000 , round(b*1000)/1000\n",
        "\n",
        "def pred(X, a, b):\n",
        "  return a*X + b"
      ],
      "execution_count": 55,
      "outputs": []
    },
    {
      "cell_type": "markdown",
      "metadata": {
        "id": "mw2FUWuHHDHU"
      },
      "source": [
        "Ans 1.c"
      ]
    },
    {
      "cell_type": "code",
      "metadata": {
        "colab": {
          "base_uri": "https://localhost:8080/",
          "height": 300
        },
        "id": "KsSOp6dtGxBV",
        "outputId": "a0182261-b391-4293-f65b-50db45e09342"
      },
      "source": [
        "import random\n",
        "import numpy as np\n",
        "import pandas as pd\n",
        "                                    # generating data\n",
        "n= 10000       # number of samples\n",
        "np.random.seed(0)                 \n",
        "X =  2.5*np.random.randn(n) + 1.5\n",
        "res =  1.5*np.random.randn(n)\n",
        "y =   0.3*X + res + 2\n",
        "\n",
        "\n",
        "a,b = gradient_descent_LR(X, y, 0.05, 10000)     #  learn rate= 0.05 and number of iterations= 10000\n",
        "\n",
        "# visualing the output\n",
        "plt.style.use('ggplot')   \n",
        "plt.scatter(X, y, color=\"green\")\n",
        "plt.plot(X, pred(X, a, b))\n",
        "plt.title(\"Gradient Descent Linear Regressor\")\n",
        "print(a, b)"
      ],
      "execution_count": 56,
      "outputs": [
        {
          "output_type": "stream",
          "name": "stdout",
          "text": [
            "0.295 2.023\n"
          ]
        },
        {
          "output_type": "display_data",
          "data": {
            "image/png": "[encoded data removed]",
            "text/plain": [
              "<Figure size 432x288 with 1 Axes>"
            ]
          },
          "metadata": {}
        }
      ]
    },
    {
      "cell_type": "markdown",
      "metadata": {
        "id": "X34XrtO_HTW7"
      },
      "source": [
        "The value of a and b after performing linear regression on the given data are 0.304 and 1.978 respectively"
      ]
    },
    {
      "cell_type": "markdown",
      "metadata": {
        "id": "TPLIekbgIKAm"
      },
      "source": [
        "Ans 1.d"
      ]
    },
    {
      "cell_type": "code",
      "metadata": {
        "colab": {
          "base_uri": "https://localhost:8080/"
        },
        "id": "2GWLVPvfILVz",
        "outputId": "6076018d-b9ea-4659-9985-46e1fb6cd8c6"
      },
      "source": [
        "# In mini batch only take a subset of dataset and calculate the gradient using them and update our v\n",
        "\n",
        "def mean_sqr_LR(X,y,a,b):\n",
        "  return 1/n * np.sum((y - a*X - b)**2)\n",
        "\n",
        "def iterate_minibatches(X, y, batch_size, shuffle=  False):   #Function for the required subset\n",
        "  assert X.shape[0] == y.shape[0]\n",
        "  if shuffle:\n",
        "    index =  np.arange(X.shape[0])\n",
        "    np.random.shuffle(index)\n",
        "  for start_index in range(0, X.shape[0], batch_size):\n",
        "    end_index = min(start_index + batch_size, X.shape[0])\n",
        "    if shuffle:\n",
        "      excerpt = index[start_index: end_index]\n",
        "    else:\n",
        "      excerpt = slice(start_index, end_index)\n",
        "    \n",
        "    yield X[excerpt], y[excerpt]\n",
        "\n",
        "def calculate_gradient(X, y, a, b): #  To calulate the gradient of given dataset\n",
        "  n= len(X)\n",
        "  da = -2/n *np.sum(X * (y- a*X -b))\n",
        "  db = -2/n *np.sum(y - a*X -b)\n",
        "  return (da,db)\n",
        "\n",
        "# compute mini batch gradient decent\n",
        "def mini_sgd(X,y , batchsize,learn_rate= 0.05 , tol=1e-06 ):\n",
        "  a = 0\n",
        "  b = 0\n",
        "  for _ in range(int(1000)):\n",
        "    for batch in iterate_minibatches(X, y, batchsize , shuffle=True):\n",
        "      x_batch, y_batch = batch\n",
        "      a_gradient ,b_gradient = calculate_gradient(x_batch ,y_batch , a , b )\n",
        "      mse = mean_sqr_LR(X,y,a,b)\n",
        "      if (mse <= tol):\n",
        "        break\n",
        "      a += -learn_rate*a_gradient\n",
        "      b += -learn_rate*b_gradient\n",
        "  return (a, b)\n",
        "\n",
        "a, b = mini_sgd(X,y, 100 )\n",
        "\n",
        "print(round(a,4), round(b,4) )"
      ],
      "execution_count": 57,
      "outputs": [
        {
          "output_type": "stream",
          "name": "stdout",
          "text": [
            "0.2685 2.0327\n"
          ]
        }
      ]
    },
    {
      "cell_type": "markdown",
      "metadata": {
        "id": "Iwj8UxS_NCPg"
      },
      "source": [
        "Ans 1.e"
      ]
    },
    {
      "cell_type": "code",
      "metadata": {
        "colab": {
          "base_uri": "https://localhost:8080/"
        },
        "id": "g_pdYSxBor4o",
        "outputId": "a535e5cd-42d1-4083-d055-1288eec09776"
      },
      "source": [
        "import time\n",
        "\n",
        "def solve(X,y,a,b):\n",
        "    return 1/n * np.sum((y - a*X - b)**2)\n",
        "\n",
        "batch_sizes_op = [ 25, 50, 100 , 200 , 500, 1000, 2000, 5000, 10000]\n",
        "\n",
        "start = time.time()\n",
        "a,b = gradient_descent_LR(X, y, 0.05, 1000)   # updating a and b 10000 times\n",
        "end = time.time()\n",
        "print((end-start))\n",
        "\n",
        "start = time.time()\n",
        "a, b = mini_sgd(X, y, 100, 0.05, 1000)\n",
        "end = time.time()\n",
        "print(end-start)\n",
        "print(\"\\n\")\n",
        "\n",
        "\n",
        "\n",
        "\n",
        "error_min = float('inf')\n",
        "errors = []\n",
        "time_min = float('inf')\n",
        "times = []\n",
        "a_best, b_best = 0,0\n",
        "best_batch_size_t = -1\n",
        "\n",
        "for tt in batch_sizes_op:\n",
        "    _a =0\n",
        "    _b =0\n",
        "    start = time.time()\n",
        "    _a, _b = mini_sgd(X, y, tt)\n",
        "    end = time.time()\n",
        "    t = end-start\n",
        "    times.append(t)\n",
        "    e = solve(X,y,_a,_b)\n",
        "    errors.append(e)\n",
        "    if e < error_min and t < time_min :\n",
        "        best_batch_size_t = tt\n",
        "        time_min = t\n",
        "        error_min = e\n",
        "        a_best, b_best = _a, _b\n",
        "\n",
        "\n",
        "for i in range(len(batch_sizes_op)):\n",
        "    print(\"Batch size = \", batch_sizes_op[i], \"     time taken =\", \"{:.3f}\".format(times[i]))  \n",
        "for i in range(len(batch_sizes_op)):\n",
        "    print(\"Batch size = \", batch_sizes_op[i], \"     error error =\", \"{:.6f}\".format(errors[i]))\n",
        "\n",
        "print(\"Batch size for which error is least= \" + str(best_batch_size_t))\n",
        "\n"
      ],
      "execution_count": 60,
      "outputs": [
        {
          "output_type": "stream",
          "name": "stdout",
          "text": [
            "0.1417701244354248\n",
            "0.29595041275024414\n",
            "\n",
            "\n",
            "Batch size =  25      time taken = 31.538\n",
            "Batch size =  50      time taken = 15.678\n",
            "Batch size =  100      time taken = 7.975\n",
            "Batch size =  200      time taken = 4.323\n",
            "Batch size =  500      time taken = 1.888\n",
            "Batch size =  1000      time taken = 1.146\n",
            "Batch size =  2000      time taken = 0.730\n",
            "Batch size =  5000      time taken = 0.498\n",
            "Batch size =  10000      time taken = 0.397\n",
            "Batch size =  25      error error = 2.635220\n",
            "Batch size =  50      error error = 2.220885\n",
            "Batch size =  100      error error = 2.220988\n",
            "Batch size =  200      error error = 2.219204\n",
            "Batch size =  500      error error = 2.218906\n",
            "Batch size =  1000      error error = 2.218992\n",
            "Batch size =  2000      error error = 2.220121\n",
            "Batch size =  5000      error error = 2.218735\n",
            "Batch size =  10000      error error = 2.218721\n",
            "Batch size for which error is least= 10000\n"
          ]
        }
      ]
    },
    {
      "cell_type": "markdown",
      "metadata": {
        "id": "ySw41MisRgfN"
      },
      "source": [
        "Ans 2\n"
      ]
    },
    {
      "cell_type": "markdown",
      "metadata": {
        "id": "loX69cNURiFK"
      },
      "source": [
        "(i) Probability of having cold and fever  = P(cold) x P(fever)= 0.02* 0.307 \n",
        "\n",
        "(ii) Probability that someone who has a cough has a cold =\n",
        "\n",
        "E1 =  have cough\n",
        "E2 =  have cold\n",
        "L  =  have lung disease\n",
        "S  =  someone smokes\n",
        "\n",
        "\n",
        "P(L) = P(S)P(L|S) + P(!S)P(L|!S)\n",
        "      = 0.2 x 0.1009 + 0.8 x 0.001 = 0.02098\n",
        "\n",
        "P(!L) = 1 - 0.02098 = 0.97902\n",
        "\n",
        "P(E1|E2)= P(L)P(E1|L,E2) + P(!L)P(C1|!L, E2)\n",
        "        = 0.02098 x 0.7525 + 0.97902 x 0.505 = 0.5101\n",
        "\n",
        "P(E1|!E2) = P(L)P(E1|L,!E2) + P(!L)P(E1|!L,!E2)\n",
        "          = 0.02098 x 0.505 + 0.97902 x 0.01\n",
        "          = 0.0203851\n",
        "\n",
        "P(E2|E1) = P(E2)P(E1|E2) / ( P(E2)P(E1|E2) + P(!E2)P(E1|!E2) ) \n",
        "        = 0.02 x 0.5101 / ( 0.02 x 0.5101 + 0.98 x 0.0203851 )\n",
        "         = 0.338\n",
        "\n",
        "\n",
        "        Answer = 0.338"
      ]
    },
    {
      "cell_type": "markdown",
      "metadata": {
        "id": "_MuQ0pSSRymd"
      },
      "source": [
        "Ans 3"
      ]
    },
    {
      "cell_type": "markdown",
      "metadata": {
        "id": "KECaxpLIRz8S"
      },
      "source": [
        "\n",
        "\n",
        "\n",
        "For k sided multinomial distribution, the probability is  \\\\\n",
        "\n",
        "P(x $\\mid \\theta$) =  n! $\\prod_{i=1}^{k}$ $\\theta_i^x_i$ / $x_i$ ! \\\\\n",
        "\n",
        "\n",
        "where \\\\\n",
        " $\\sum_{i=1}^{k}$  $x_i$ = n \\\\\n",
        " \n",
        "  $\\sum_{i=1}^{k}$  $\\theta_i$ = 1  \\\\\n",
        "  \n",
        "  $\\theta_i$ $\\geq$ 0  and  $x_i$ $\\geq 0, \\forall  i  \\in [ k]$   \\\n",
        "  \n",
        "\n",
        "\n",
        "\n",
        "Log likelihood for this..... \\\\\n",
        "\n",
        "LL($\\theta$)  = log(n!) + $\\sum_{i=1}^{k}$  $x_i$ log($\\theta_i$) -  $\\sum_{i=1}^{k} $ log($x_i !$) \\\\\n",
        "\n",
        "= g($\\theta$) =  $\\sum_{i=1}^{k}$ $\\theta_i$  -1 = 0 \\\\\n",
        "\n",
        "\n",
        "Our problem becomes ..... \\\\\n",
        "\n",
        "L($\\theta$, $\\lambda$) = LL($\\theta$) - $\\lambda$ g($\\theta$) \\\\ \n",
        "\n",
        "L($\\theta$, $\\lambda$)  = log(n!) + $\\sum_{i=1}^{k}$  $x_i$ log($\\theta_i$) - $\\sum_{i=1}^{k} $ log($x_i !$)   - $\\lambda$ $\\sum_{i=1}^{k}$ $\\theta_i$ + $\\lambda$ \\\\\n",
        "\n",
        "$\\frac{\\partial L}{\\partial \\theta_i}$ =  $\\frac{x_i}{\\theta_i}$ -$\\lambda$ =0 \\\\\n",
        "\n",
        "$\\Rightarrow$ $\\theta_i$ =  $\\frac{x_i}{\\lambda}$ \\\\\n",
        "\n",
        " $\\Rightarrow$ $\\sum_{i=1}^{k}$ $\\theta_i$  - 1 = 0 \\\\\n",
        "\n",
        " $\\Rightarrow$ $\\sum_{i=1}^{k}$  $\\frac{x_i}{\\lambda}$ =1  \\\\\n",
        "\n",
        " $\\Rightarrow$  $\\lambda$ = $\\sum_{i=1}^{k}$  $x_i$ \\\\\n",
        "\n",
        " $\\Rightarrow$  $\\theta_i$ =  $\\frac{x_i}{\\sum_{i=1}^{k} x_i}$ \n",
        "\n",
        " \n"
      ]
    }
  ]
}